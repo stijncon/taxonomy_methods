{
 "cells": [
  {
   "cell_type": "code",
   "execution_count": 1,
   "metadata": {
    "id": "vzJIsAV8459F",
    "scrolled": true
   },
   "outputs": [],
   "source": [
    "#topic modeling and corpus creation\n",
    "import spacy\n",
    "nlp = spacy.load(r\"C:\\Users\\conix\\en_core_web_lg\", exclude = ['NER','parse'])\n",
    "from spacy.lang.en import STOP_WORDS\n",
    "import gensim\n",
    "from gensim.models.coherencemodel import CoherenceModel\n",
    "from gensim import corpora\n",
    "from gensim.models.ldamodel import LdaModel\n",
    "from gensim.models import Phrases\n",
    "from gensim.models.word2vec import LineSentence\n",
    "from gensim.corpora import Dictionary, MmCorpus\n",
    "from bertopic import BERTopic\n",
    "\n",
    "#visulisation\n",
    "import matplotlib.pyplot as plt\n",
    "import pyLDAvis\n",
    "import pyLDAvis.gensim_models as gensimvis\n",
    "\n",
    "# standard packages\n",
    "import pickle\n",
    "import pandas as pd\n",
    "import itertools as it\n",
    "import numpy as np\n",
    "import json\n",
    "import string\n",
    "\n",
    "# functions written for this in the MethodsCorpusFunctions.py file\n",
    "from MethodsCorpusFunctions import view_methods, process_text, process_rawText, process_rawCorpus, create_dict, create_corpus, remove_ascii\n",
    "\n",
    "# logging\n",
    "import logging\n",
    "logging.basicConfig(format=\"%(asctime)s : %(levelname)s : %(message)s\",\n",
    "                    level=logging.NOTSET)\n",
    "\n",
    "# start with logging turned off \n",
    "logging.disable(logging.CRITICAL)"
   ]
  },
  {
   "cell_type": "markdown",
   "metadata": {
    "id": "4QIO8foSYrQC"
   },
   "source": [
    "This notebook makes BERTopic and LDA models from the taxonomy methods (sections, paragraphs and sentences). The main aim of these topicmodels is to create a classification of taxonomic methods, and to select documents for labeling. "
   ]
  },
  {
   "cell_type": "code",
   "execution_count": 3,
   "metadata": {
    "id": "7ABVRYUlYqiA"
   },
   "outputs": [],
   "source": [
    "## start by loading all the text created in the TM_IsolateMethods notebook\n",
    "\n",
    "# the sections\n",
    "with open('...\\methods_rawtext.pickle', 'rb') as handle:\n",
    "    methods_rawtext = pickle.load( handle)\n",
    "\n",
    "# the paragraphs\n",
    "filename = \"...\\methods_paragraph_corpus.pickle\"\n",
    "with open(filename, \"rb\") as f:\n",
    "    methods_paras = pickle.load(f)\n",
    "\n",
    "# the sentences\n",
    "filename = \"...\\methods_sentencesrawtext.pickle\"        \n",
    "with open(filename, \"rb\") as f:\n",
    "    methods_sentences = pickle.load(f)\n",
    "\n",
    "# ids of all papers with method sections\n",
    "filename = \"...\\methods_filenames.pickle\"\n",
    "with open(filename, \"rb\") as f:\n",
    "    methods_filenames = pickle.load(f)"
   ]
  },
  {
   "cell_type": "markdown",
   "metadata": {},
   "source": [
    "# Gensim LDA\n",
    "\n",
    "## Phrase modeling\n",
    "\n",
    "Start by making a bigram and trigram model to include bigrams and trigrams in our corpora. Since paragraphs are most likely the document-level of our choice, we use the paragraphs to make these models.\n",
    "\n",
    "Note: a lot of the words that get picked up by the topic model as very specific for particular topics are bizarre trigrams (or even combinations of bigrams). I have to look into improving this, or just not model the trigrams?\n",
    "\n"
   ]
  },
  {
   "cell_type": "code",
   "execution_count": 42,
   "metadata": {},
   "outputs": [
    {
     "name": "stderr",
     "output_type": "stream",
     "text": [
      "100%|██████████████████████████████████████████████████████████████████████████| 137598/137598 [25:47<00:00, 88.89it/s]\n"
     ]
    }
   ],
   "source": [
    "# use spacy to process the paragraphs\n",
    "# we lemmataize, remove punctuation and spaces, remove non-english words, and only keep certain types of words (eg no AUX)\n",
    "# note: this takes about half an hour -- load the file below instead if you don't want to run\n",
    "\n",
    "paras = list(methods_paras.values())\n",
    "processed_paras = []\n",
    "for para in tqdm(paras):\n",
    "    processed_paras.append(' '.join(process_text(para)))\n",
    "    "
   ]
  },
  {
   "cell_type": "code",
   "execution_count": 45,
   "metadata": {},
   "outputs": [],
   "source": [
    "# write all paragraphs to a single text file with one paragraph per line\n",
    "# this allows us to use genism's LineSentence\n",
    "\n",
    "filename_processed_paras = '...\\methods_paras_onefile.txt'\n",
    "with open(filename_processed_paras, 'w', encoding = 'utf-8') as f:\n",
    "    f.write(\"\\n\".join(map(str, processed_paras)))"
   ]
  },
  {
   "cell_type": "code",
   "execution_count": 48,
   "metadata": {},
   "outputs": [],
   "source": [
    "## save the models here\n",
    "bigram_model_filepath = \"...\\methods_bigram_model.txt\"\n",
    "trigram_model_filepath = \"...\\methods_trigram_model.txt\"\n",
    "\n",
    "## save the bigram and trigram text here\n",
    "bigram_text_filepath = \"...\\methods_bigram_text.txt\"\n",
    "trigram_text_filepath = \"...\\methods_trigram_text.txt\""
   ]
  },
  {
   "cell_type": "code",
   "execution_count": 49,
   "metadata": {},
   "outputs": [],
   "source": [
    "## make the bigram model using the processed text\n",
    "\n",
    "unigram_text = LineSentence(filename_processed_paras)\n",
    "\n",
    "# bigram model: make, save and load\n",
    "bigram_model = Phrases(unigram_text)\n",
    "bigram_model.save(bigram_model_filepath)\n",
    "bigram_model = Phrases.load(bigram_model_filepath)\n",
    "\n",
    "with open(bigram_text_filepath, 'a', encoding='utf_8') as f:\n",
    "    \n",
    "    for unigram_method in unigram_text:\n",
    "        bigram_text = u' '.join(bigram_model[unigram_method])\n",
    "        f.write(bigram_text + '\\n')\n",
    "\n",
    "bigram_text = LineSentence(bigram_text_filepath)"
   ]
  },
  {
   "cell_type": "code",
   "execution_count": 50,
   "metadata": {},
   "outputs": [],
   "source": [
    "## make the trigram model using the processed text\n",
    "\n",
    "trigram_model = Phrases(bigram_text)\n",
    "trigram_model.save(trigram_model_filepath)\n",
    "trigram_model = Phrases.load(trigram_model_filepath)\n",
    "\n",
    "\n",
    "with open(trigram_text_filepath, 'w', encoding='utf_8') as f:\n",
    "    \n",
    "    for bigram_method in bigram_text:\n",
    "        trigram_text = u' '.join(trigram_model[bigram_method])\n",
    "        f.write(trigram_text + '\\n')\n",
    "\n",
    "trigram_text = LineSentence(trigram_text_filepath)"
   ]
  },
  {
   "cell_type": "markdown",
   "metadata": {},
   "source": [
    "## Process the text at the section, paragraph and sentence level\n",
    "\n",
    "There must be more efficient ways of doing this, and more successful ones too. The ngrams in the models don't seem to make much sense in most cases, so maybe better not to do this at all."
   ]
  },
  {
   "cell_type": "code",
   "execution_count": 59,
   "metadata": {},
   "outputs": [
    {
     "name": "stderr",
     "output_type": "stream",
     "text": [
      "100%|██████████████████████████████████████████████████████████████████████████| 137598/137598 [45:16<00:00, 50.65it/s]\n"
     ]
    }
   ],
   "source": [
    "## we only have to process the corpus at the sentence-level and paragraph level. After that, we can combine lists of sentences/paragraphs to make the entire sections.\n",
    "# again, this takes long so better to load the lists below\n",
    "\n",
    "# sentences\n",
    "processed_sentences = process_rawCorpus(list(methods_sentences.values()), bigram_model, trigram_model)\n",
    "\n",
    "# # paragraphs\n",
    "processed_paras = process_rawCorpus(paras, bigram_model, trigram_model)"
   ]
  },
  {
   "cell_type": "code",
   "execution_count": 60,
   "metadata": {},
   "outputs": [],
   "source": [
    "# pickle these\n",
    "\n",
    "filename = \"...\\methods_sentencesprocessed.pickle\"        \n",
    "with open(filename, 'wb') as handle:\n",
    "    pickle.dump(processed_sentences, handle)\n",
    "\n",
    "filename = \"...\\methods_parasprocessed.pickle\"        \n",
    "with open(filename, 'wb') as handle:\n",
    "    pickle.dump(processed_paras, handle)"
   ]
  },
  {
   "cell_type": "code",
   "execution_count": 8,
   "metadata": {},
   "outputs": [],
   "source": [
    "# now also get the processed sections by combining processed paragraphs\n",
    "\n",
    "# dct of paragraph keys and processed paragraphs\n",
    "processed_paras_dct = dict(zip(methods_paras.keys(), processed_paras))\n",
    "\n",
    "# store processed sections\n",
    "processed_sections = {}\n",
    "\n",
    "# loop over sections, and combine all paragraphs from one section\n",
    "for paper in methods_filenames:\n",
    "    combined_paras = []\n",
    "    for para_key in methods_paras.keys():\n",
    "        if paper in para_key:\n",
    "            combined_paras += processed_paras_dct[para_key]\n",
    "    processed_sections[paper] = combined_paras   \n",
    "\n",
    "filename = \"...\\methods_sectionsprocessed.pickle\"        \n",
    "with open(filename, 'wb') as handle:\n",
    "    pickle.dump(processed_sections, handle)"
   ]
  },
  {
   "cell_type": "code",
   "execution_count": 13,
   "metadata": {},
   "outputs": [],
   "source": [
    "# open the processed files\n",
    "\n",
    "filename = \"...\\methods_sentencesprocessed.pickle\"        \n",
    "with open(filename, 'rb') as handle:\n",
    "    processed_sentences = pickle.load(handle)\n",
    "\n",
    "filename = \"...\\methods_parasprocessed.pickle\"        \n",
    "with open(filename, 'rb') as handle:\n",
    "    processed_paras = pickle.load(handle)\n",
    "\n",
    "filename = \"...\\methods_sectionsprocessed.pickle\"        \n",
    "with open(filename, 'rb') as handle:\n",
    "    processed_sections = pickle.load(handle)"
   ]
  },
  {
   "cell_type": "markdown",
   "metadata": {},
   "source": [
    "## Create gensim dictionaries and corpora"
   ]
  },
  {
   "cell_type": "code",
   "execution_count": 110,
   "metadata": {},
   "outputs": [],
   "source": [
    "# write to single files in order to use LineSentence\n",
    "\n",
    "filename_processed_paras2 = '...\\methods_paras_onefile2.txt'\n",
    "with open(filename_processed_paras2, 'w', encoding = 'utf-8') as f:\n",
    "    f.write(\"\\n\".join(map(str, processed_paras)))\n",
    "\n",
    "filename_processed_sentences = '...\\methods_sentences_onefile.txt'\n",
    "with open(filename_processed_sentences, 'w', encoding = 'utf-8') as f:\n",
    "    f.write(\"\\n\".join(map(str, processed_sentences)))\n",
    "\n",
    "filename_processed_sections = '...\\methods_sections_onefile.txt'\n",
    "with open(filename_processed_sections, 'w', encoding = 'utf-8') as f:\n",
    "    f.write(\"\\n\".join(map(str, list(processed_sections.values()))))"
   ]
  },
  {
   "cell_type": "code",
   "execution_count": 10,
   "metadata": {},
   "outputs": [],
   "source": [
    "## learn the dictionaries\n",
    "## have to experiment with higher minimum occurence!!\n",
    "sentences_dictionary = create_dict(processed_sentences, 'sentences',5,0.5)\n",
    "paras_dictionary = create_dict(processed_paras,'paras',5,0.5)\n",
    "sections_dictionary = create_dict(list(processed_sections.values()), 'sections',5,0.5)\n",
    "\n",
    "# load the dictionaries if you don't want to make them yourself\n",
    "sentences_dictionary = Dictionary.load(\"...\\dict_sentences.dict\")\n",
    "paras_dictionary = Dictionary.load(\"...\\dict_paras.dict\")\n",
    "sections_dictionary = Dictionary.load(\"...\\dict_sections.dict\")\n",
    "\n",
    "## create the corpora\n",
    "\n",
    "sentences_corpus = create_corpus(processed_sentences, sentences_dictionary, 'sentences')\n",
    "paras_corpus = create_corpus(processed_paras, paras_dictionary, 'paras')\n",
    "sections_corpus = create_corpus(list(processed_sections.values()), sections_dictionary, 'sections')\n",
    "\n",
    "## load the corpora if you don't want to make them\n",
    "\n",
    "sentences_corpus = MmCorpus(\"...\\bow_sentences.mm\")\n",
    "paras_corpus = MmCorpus(\"...\\bow_paras.mm\")\n",
    "sections_corpus = MmCorpus(\"...\\bow_sections.mm\")"
   ]
  },
  {
   "cell_type": "markdown",
   "metadata": {
    "id": "sQf6yBQPcb99"
   },
   "source": [
    "## Training LDA Models\n",
    "\n",
    "start by running multiple models for the paras corpus, to determine how many topics might be good\n"
   ]
  },
  {
   "cell_type": "code",
   "execution_count": null,
   "metadata": {},
   "outputs": [],
   "source": [
    "logging.disable(logging.NOTSET)\n",
    "\n",
    "corpus_size = len(methods_paras)\n",
    "chunk_size = round(corpus_size, -3) + 1000\n",
    "\n",
    "def model_for(num_topics):\n",
    "  return LdaModel(\n",
    "      corpus=paras_corpus,\n",
    "      id2word=paras_dictionary,\n",
    "      num_topics=num_topics,\n",
    "      chunksize=chunk_size,\n",
    "      update_every=1,\n",
    "      iterations=150,\n",
    "      passes=4,\n",
    "      alpha=\"auto\",\n",
    "      eta=\"auto\",\n",
    "      random_state=1337\n",
    "  )\n",
    "\n",
    "# try these values for num_topics\n",
    "NUM_TOPICS = [4, 6, 8, 10, 12, 14, 16, 18, 20, 22, 25, 50, 75, 100, 150]\n",
    "\n",
    "# get the models, and store them in a dictionary\n",
    "models = {}\n",
    "for n in tqdm(NUM_TOPICS):\n",
    "  models[n] = model_for(n)\n",
    "\n",
    "\n",
    "# save the models\n",
    "\n",
    "for num, model in models.items():\n",
    "    model.save(\"...\\ldaParas_\" + f\"{num}\")\n"
   ]
  },
  {
   "cell_type": "code",
   "execution_count": 11,
   "metadata": {},
   "outputs": [],
   "source": [
    "# load the models if you don't want to run the previous cell yourself\n",
    "\n",
    "NUM_TOPICS = [4, 6, 8, 10, 12, 14, 16, 18, 20, 22, 25, 50, 75, 100, 150]\n",
    "models = {}\n",
    "for num in NUM_TOPICS:\n",
    "    models[num] = LdaModel.load(\"...\\ldaParas_\" + f\"{num}\")"
   ]
  },
  {
   "cell_type": "code",
   "execution_count": 14,
   "metadata": {},
   "outputs": [
    {
     "name": "stdout",
     "output_type": "stream",
     "text": [
      "Ranked by average 'c_v' coherence:\n",
      "\n",
      "num_topics=12:\t0.6089\n",
      "num_topics=10:\t0.6084\n",
      "num_topics=14:\t0.6069\n",
      "num_topics=20:\t0.6064\n",
      "num_topics=50:\t0.6060\n",
      "num_topics=8:\t0.6034\n",
      "num_topics=16:\t0.6014\n",
      "num_topics=6:\t0.6001\n",
      "num_topics=75:\t0.5979\n",
      "num_topics=22:\t0.5972\n",
      "num_topics=25:\t0.5970\n",
      "num_topics=18:\t0.5967\n",
      "num_topics=100:\t0.5927\n",
      "num_topics=150:\t0.5797\n",
      "num_topics=4:\t0.5711\n",
      "\n",
      "Best: 12\n"
     ]
    }
   ],
   "source": [
    "# Create a coherence model\n",
    "cm = CoherenceModel.for_models(\n",
    "    models.values(),\n",
    "    paras_dictionary,\n",
    "    corpus=paras_corpus,\n",
    "    texts=processed_paras,\n",
    "    coherence=\"c_v\"\n",
    ")\n",
    "coherence_estimates = cm.compare_models(models.values())\n",
    "coherences = dict(zip(models.keys(), coherence_estimates))\n",
    "\n",
    "coherence_list = [(num_topics, avg_coherence)\n",
    "  for num_topics, (_, avg_coherence) in coherences.items()]\n",
    "ordered = sorted(coherence_list, key=lambda tup: tup[1], reverse=True)\n",
    "\n",
    "print(f\"Ranked by average '{cm.coherence}' coherence:\\n\")\n",
    "for item in ordered:\n",
    "  print(\"num_topics=%d:\\t%.4f\" % item)\n",
    "print(f\"\\nBest: {ordered[0][0]}\")"
   ]
  },
  {
   "cell_type": "code",
   "execution_count": 15,
   "metadata": {},
   "outputs": [
    {
     "data": {
      "image/png": "[encoded data removed]",
      "text/plain": [
       "<Figure size 640x480 with 1 Axes>"
      ]
     },
     "metadata": {},
     "output_type": "display_data"
    }
   ],
   "source": [
    "# Graph coherences\n",
    "x_coords = [num_topics for num_topics, _ in coherences.items()]\n",
    "y_coords = [c for _, (_, c) in coherences.items()]\n",
    "\n",
    "plt.plot(x_coords, y_coords)\n",
    "plt.xlabel(\"number of topics\")\n",
    "plt.ylabel(\"coherence\")\n",
    "plt.show()"
   ]
  },
  {
   "cell_type": "markdown",
   "metadata": {},
   "source": [
    "Comparison of multiple models of the sections showed that up to 50 topics had good coherence scores, with 6 just a bit better. 5 passes and 150 iterations seemed enough. Given that we want to explore the corpus in a rather finegrained manner, and want to find as many methodological categories as possible to consider, we set the number of topics at 50.  Now (rather arbitrarily) get that number of topics for the sentences and sections as well."
   ]
  },
  {
   "cell_type": "code",
   "execution_count": 44,
   "metadata": {
    "id": "-ghjg2hfbxx5",
    "scrolled": true
   },
   "outputs": [],
   "source": [
    "# logging.disable(logging.NOTSET)\n",
    "\n",
    "PASSES = 5\n",
    "ITERATIONS = 150\n",
    "\n",
    "# sentences\n",
    "\n",
    "corpus_size = len(methods_sentences)\n",
    "chunk_size = round(corpus_size, -3) + 1000\n",
    "\n",
    "sentences_model = LdaModel(\n",
    "    corpus=sentences_corpus,\n",
    "    id2word=sentences_dictionary,\n",
    "    num_topics=50,\n",
    "    chunksize=chunk_size,\n",
    "    iterations=ITERATIONS,\n",
    "    passes=PASSES,\n",
    "    alpha=\"auto\",\n",
    "    eta=\"auto\",\n",
    "    random_state=1337\n",
    ")\n",
    "\n",
    "sentences_model.save(\"...\\ldaSentences\")\n",
    "\n",
    "\n",
    "# paragraphs\n",
    "\n",
    "corpus_size = len(methods_paras)\n",
    "chunk_size = round(corpus_size, -3) + 1000\n",
    "\n",
    "paras_model = LdaModel(\n",
    "    corpus=paras_corpus,\n",
    "    id2word=paras_dictionary,\n",
    "    num_topics=50,\n",
    "    chunksize=chunk_size,\n",
    "    iterations=ITERATIONS,\n",
    "    passes=PASSES,\n",
    "    alpha=\"auto\",\n",
    "    eta=\"auto\",\n",
    "    random_state=1337\n",
    ")\n",
    "\n",
    "paras_model.save(\"...\\ldaParas\")\n",
    "\n",
    "\n",
    "# sections\n",
    "\n",
    "corpus_size = len(methods_filenames)\n",
    "chunk_size = round(corpus_size, -3) + 1000\n",
    "\n",
    "sections_model = LdaModel(\n",
    "    corpus=sections_corpus,\n",
    "    id2word=sections_dictionary,\n",
    "    num_topics=50,\n",
    "    chunksize=chunk_size,\n",
    "    iterations=ITERATIONS,\n",
    "    passes=PASSES,\n",
    "    alpha=\"auto\",\n",
    "    eta=\"auto\",\n",
    "    random_state=1337\n",
    ")\n",
    "\n",
    "sections_model.save(\"...\\ldaSections\")\n",
    "\n",
    "# Turn logging back off again for later\n",
    "logging.disable(logging.CRITICAL)"
   ]
  },
  {
   "cell_type": "markdown",
   "metadata": {},
   "source": [
    "# BERTopic model\n",
    "\n",
    "Try out transformer topic modeling. We use the very easy-to-use, well-documented package [BERTopic](https://maartengr.github.io/BERTopic/).\n",
    "\n",
    "The main steps for topic modeling with BERTopic are sentence-transformers, UMAP (dimensionality reduction), HDBSCAN (clustering), and c-TF-IDF (identifying characteristic words) run in sequence. For more, see [here](https://maartengr.github.io/BERTopic/index.html). You can manually set hyperparameters for all steps, so I'll have to experiment more with this if we really want to use this more.\n",
    "\n",
    "Bertopic topic models use BERT, and hence cannot have documents longer than 512 tokens. It also takes a lot longer than LDA if there are very many documents. Hence, we only get a BERTopic model for the paragraphs. Splitting up sections would not make sense, as paragraphs already do that in the (presumably) best possible way."
   ]
  },
  {
   "cell_type": "code",
   "execution_count": null,
   "metadata": {},
   "outputs": [],
   "source": [
    "# check tokens in sections and sentences\n",
    "# if they are too long, the first 512 tokens get used.\n",
    "# as long as there aren't too many of these, this should not matter\n",
    "\n",
    "n_longsentences = np.sum(np.array([len(i.split(' ')) for i in methods_sentences.values()]) > 512)\n",
    "n_longparas = np.sum(np.array([len(i.split(' ')) for i in methods_paras.values()]) > 512)\n",
    "\n",
    "print(f\"Proportion of sentences beyond the BERT limit: {n_longsentences / len(methods_sentences)}\")\n",
    "print(f\"Proportion of paragraphs beyond the BERT limit: {n_longparas / len(methods_paras)}\")"
   ]
  },
  {
   "cell_type": "markdown",
   "metadata": {},
   "source": [
    "## Use default settings and transformer model of BERTopic"
   ]
  },
  {
   "cell_type": "code",
   "execution_count": 5,
   "metadata": {},
   "outputs": [],
   "source": [
    "# try without preprocessing the text, only remove non-ascii characters\n",
    "# preprocessing is not necessary as BERT needs context to get the meaning of words\n",
    "# if the topics have too many auxiliaries and stop words, we can try an approach with preprocessing\n",
    "\n",
    "# remove non ascii characters\n",
    "\n",
    "clean_paras = remove_ascii(methods_paras)\n",
    "\n",
    "# pickle the list\n",
    "\n",
    "filename = \"...\\BERTopic_parasDocs.pickle\"        \n",
    "with open(filename, 'wb') as handle:\n",
    "    pickle.dump(clean_paras, handle)"
   ]
  },
  {
   "cell_type": "code",
   "execution_count": 2,
   "metadata": {
    "scrolled": true
   },
   "outputs": [],
   "source": [
    "# make and save BERTopic model\n",
    "logging.disable(logging.NOTSET)\n",
    "\n",
    "\n",
    "BERTopic_paras = BERTopic(ngram_range = (1,3),\n",
    "                          verbose=True,\n",
    "                          calculate_probabilities=False) # set to True if you want topic probability by doc\n",
    "\n",
    "# if you calculate probabilities, make this topics, probabilities = ...\n",
    "topics, probabilities = BERTopic_paras.fit_transform(clean_paras) \n",
    "\n",
    "filepath = \"...\\BERTopic_paras\"\n",
    "BERTopic_paras.save(filepath)"
   ]
  },
  {
   "cell_type": "code",
   "execution_count": 39,
   "metadata": {},
   "outputs": [
    {
     "data": {
      "text/plain": [
       "137598"
      ]
     },
     "execution_count": 39,
     "metadata": {},
     "output_type": "execute_result"
    }
   ],
   "source": [
    "len(list(methods_paras.values()))"
   ]
  },
  {
   "cell_type": "markdown",
   "metadata": {},
   "source": [
    "## Use the default settings with SciBERT as the transformer model\n",
    "\n",
    "Scibert has been trained on a bunch of scientific paper abstracts, and might be better at understanding scientific text. Try it out, keeping the rest constant."
   ]
  },
  {
   "cell_type": "code",
   "execution_count": 11,
   "metadata": {},
   "outputs": [
    {
     "data": {
      "application/vnd.jupyter.widget-view+json": {
       "model_id": "8b9c1f7708f94391822fa76936864737",
       "version_major": 2,
       "version_minor": 0
      },
      "text/plain": [
       ".gitattributes:   0%|          | 0.00/437 [00:00<?, ?B/s]"
      ]
     },
     "metadata": {},
     "output_type": "display_data"
    },
    {
     "data": {
      "application/vnd.jupyter.widget-view+json": {
       "model_id": "139a470c43004a0ba9860947bef085ed",
       "version_major": 2,
       "version_minor": 0
      },
      "text/plain": [
       "README.md:   0%|          | 0.00/1.14k [00:00<?, ?B/s]"
      ]
     },
     "metadata": {},
     "output_type": "display_data"
    },
    {
     "data": {
      "application/vnd.jupyter.widget-view+json": {
       "model_id": "cd471ad64b3b46db967e2ad6743ac844",
       "version_major": 2,
       "version_minor": 0
      },
      "text/plain": [
       "config.json:   0%|          | 0.00/385 [00:00<?, ?B/s]"
      ]
     },
     "metadata": {},
     "output_type": "display_data"
    },
    {
     "data": {
      "application/vnd.jupyter.widget-view+json": {
       "model_id": "40f9d620a3dd4bd2b0f557fce9c13563",
       "version_major": 2,
       "version_minor": 0
      },
      "text/plain": [
       "pytorch_model.bin:   0%|          | 0.00/442M [00:00<?, ?B/s]"
      ]
     },
     "metadata": {},
     "output_type": "display_data"
    },
    {
     "data": {
      "application/vnd.jupyter.widget-view+json": {
       "model_id": "8e0239da076a4c75aa3d63f644bfca33",
       "version_major": 2,
       "version_minor": 0
      },
      "text/plain": [
       "vocab.txt:   0%|          | 0.00/228k [00:00<?, ?B/s]"
      ]
     },
     "metadata": {},
     "output_type": "display_data"
    }
   ],
   "source": [
    "from sentence_transformers import SentenceTransformer\n",
    "\n",
    "sentence_model = SentenceTransformer(\"allenai/scibert_scivocab_uncased\")"
   ]
  },
  {
   "cell_type": "code",
   "execution_count": null,
   "metadata": {},
   "outputs": [],
   "source": [
    "# get the embeddings and save them separately so we can reuse them\n",
    "# this is the step that takes most time (12 hours on my laptop!)\n",
    "\n",
    "embeddings = sentence_model.encode(list(methods_paras.values()), show_progress_bar=True)\n",
    "# np.save('...\\scibert_paras_embeddings.npy', embeddings)\n"
   ]
  },
  {
   "cell_type": "code",
   "execution_count": null,
   "metadata": {},
   "outputs": [],
   "source": [
    "embeddings = np.load('...\\scibert_paras_embeddings.npy')\n"
   ]
  },
  {
   "cell_type": "code",
   "execution_count": 34,
   "metadata": {},
   "outputs": [],
   "source": [
    "from umap import UMAP\n",
    "from bertopic import BERTopic\n",
    "from sklearn.decomposition import PCA\n",
    "\n",
    "# another time consuming step is the umap. You can speed this up by rescaling the embeddings we saved above and feeding them into the umap model. I haven't looked into the details of this, but it is a bit faster indeed.\n",
    "\n",
    "def rescale(x, inplace=False):\n",
    "    \"\"\" \n",
    "    Rescale an embedding so optimization will not have convergence issues.\n",
    "    \n",
    "    \"\"\"\n",
    "    if not inplace:\n",
    "        x = np.array(x, copy=True)\n",
    "\n",
    "    x /= np.std(x[:, 0]) * 10000\n",
    "\n",
    "    return x\n",
    "\n",
    "\n",
    "\n",
    "# Initialize and rescale PCA embeddings\n",
    "pca_embeddings = rescale(PCA(n_components=5).fit_transform(embeddings))\n",
    "\n",
    "\n"
   ]
  },
  {
   "cell_type": "code",
   "execution_count": null,
   "metadata": {},
   "outputs": [],
   "source": [
    "from sklearn.feature_extraction.text import CountVectorizer\n",
    "\n",
    "# Start UMAP from PCA embeddings\n",
    "umap_model = UMAP(\n",
    "    n_neighbors=15,\n",
    "    n_components=5,\n",
    "    min_dist=0.0,\n",
    "    metric=\"cosine\",\n",
    "    init=pca_embeddings,\n",
    "    random_state = 42)\n",
    "\n",
    "# the model didn't work well at all without removing stopwords, so do that too\n",
    "vectorizer_model = CountVectorizer(stop_words = 'english',\n",
    "                                   ngram_range=(1, 2), # include unigrams and bigrams\n",
    "                                   min_df=10, #minimim frequency of docs with a token\n",
    "                                   max_df=0.95) # max frequency of docs with a token\n",
    "\n",
    "    "
   ]
  },
  {
   "cell_type": "code",
   "execution_count": 37,
   "metadata": {},
   "outputs": [],
   "source": [
    "# add the umap_model and vectorizer model from above, and initiate the model \n",
    "\n",
    "BERTopic_paras_scibert = BERTopic( umap_model = umap_model,\n",
    "                        vectorizer_model = vectorizer_model,\n",
    "                       low_memory=False, # faster when False\n",
    "                       verbose=True,\n",
    "                       embedding_model=sentence_model,\n",
    "                       nr_topics=\"auto\",\n",
    "                       calculate_probabilities=False,\n",
    "                        )\n",
    "\n",
    "topics, probabilities = BERTopic_paras_scibert.fit_transform(list(methods_paras.values()),embeddings)\n",
    "\n",
    "filepath = \"...\\BERTopic_paras_scibert\"\n",
    "BERTopic_paras_scibert.save(filepath)"
   ]
  },
  {
   "cell_type": "markdown",
   "metadata": {},
   "source": [
    "## To do: Use SciBERT and tune other hyperparameters."
   ]
  },
  {
   "cell_type": "markdown",
   "metadata": {},
   "source": [
    "You can manually set the hyperparameters for all steps in the BERTopic process. More info [here](https://maartengr.github.io/BERTopic/getting_started/parameter%20tuning/parametertuning.html). The default settings with the default model were already pretty informative, so haven't really tested this. I have tried a few pretty random runs, but didn't get any particularly informative models. \n",
    "\n",
    "Note: with the precalculated embeddings the modelling is pretty fast, so easy to test. Moreover, you can use update_topics to change things like the vectorizer_model, the ngram_range, or what you do with the stopwords (see [here](https://maartengr.github.io/BERTopic/api/bertopic.html#bertopic._bertopic.BERTopic.update_topics))."
   ]
  },
  {
   "cell_type": "code",
   "execution_count": 17,
   "metadata": {},
   "outputs": [],
   "source": [
    "from bertopic.vectorizers import ClassTfidfTransformer\n",
    "from bertopic.representation import KeyBERTInspired\n",
    "from bertopic.representation import MaximalMarginalRelevance\n",
    "import hdbscan\n",
    "\n",
    "# manually set parameters for dimensionality reduction\n",
    "# probably better not to touch this one\n",
    "\n",
    "umap_model = UMAP(n_neighbors=15, # smaller is a more local view, larger is more global and larger clusters\n",
    "                  n_components=7, #set dimensionality of embeddings after reducing them. trade-off between keeping information and keeping clustering easy for hdbscan\n",
    "                  metric='cosine', # metric to compute distances\n",
    "                  low_memory=False,\n",
    "                 random_state=42) # preventing stochastic behaviour\n",
    "\n",
    "# you can manually choose the parameters for the clustering\n",
    "\n",
    "hdbscan_model = hdbscan.HDBSCAN(min_cluster_size=150, # granularity of clustering, best way to control n topics.\n",
    "                                min_samples=5, # number of neighbours to be a core part of a cluster\n",
    "                                metric='euclidean', # how to calculate the distances\n",
    "                         prediction_data=False) # change if we want to classify new datapoints\n",
    "\n",
    "# too much preprocessing is not good because the transformer model needs the context, but it is possible to preprocess documents after having generated embeddings and clustering documents using countvectorizer\n",
    "\n",
    "vectorizer_model = CountVectorizer(stop_words = 'english',\n",
    "                                   ngram_range=(1, 2), # include unigrams and bigrams\n",
    "                                   min_df=5, #minimim frequency of docs with a token\n",
    "                                   max_df=1.0) # max frequency of docs with a token\n",
    "\n",
    "\n",
    "# Use a KeyBert inspired model to improve the topic representation (this also reduces stop words in the topic representation)\n",
    "# for more, see here: https://maartengr.github.io/KeyBERT/\n",
    "representation_model = KeyBERTInspired()"
   ]
  },
  {
   "cell_type": "code",
   "execution_count": null,
   "metadata": {},
   "outputs": [],
   "source": [
    "\n",
    "# Then train the topic model using these pre-trained embeddings\n",
    "# put this in a loop to try different hyperparameter values. \n",
    "\n",
    "BERTopic_paras_scibert_tune = BERTopic(umap_model = umap_model,\n",
    "                        hdbscan_model=hdbscan_model,\n",
    "                       low_memory=True,\n",
    "                       verbose=True, # show progress bar\n",
    "                        top_n_words=10, \n",
    "                       embedding_model=sentence_model,\n",
    "                       nr_topics=\"auto\", # you can force a number, but is not recommended\n",
    "                       vectorizer_model=vectorizer_model,\n",
    "                       min_topic_size = 100,# only accept topics with a certain number of docs\n",
    "                      representation_model=representation_model,\n",
    "                       calculate_probabilities=False) # computationally expensive\n",
    "\n",
    "# use the same embeddings as in the previous model -- this saves a lot of time\n",
    "topics, probabilities = BERTopic_paras_scibert_tune.fit_transform(list(methods_paras.values()), embeddings)\n",
    "\n",
    "filepath = \"...\\BERTopic_paras_complex_tune\"\n",
    "BERTopic_paras_scibert.save(filepath)"
   ]
  },
  {
   "cell_type": "markdown",
   "metadata": {},
   "source": [
    "## Bertopic coherence scores"
   ]
  },
  {
   "cell_type": "markdown",
   "metadata": {},
   "source": [
    "The main developer seems to think that it's generally not a good idea to use coherence scores to tune the parameters of the model, so I haven't really do this for now. There also seem to be very many possible metrics, and I'd have to look into this if we do want to use it. In anyway, it is possible to use gensim and get the coherence scores like we did for the LDA models. I don't think we can meaningfully compare them (the preprocessing of the corpus was very different), but I add the code here in case we want to develop this later or just to get an idea of coherence scores. For more on coherence of bertopic models, see [here](https://github.com/MaartenGr/BERTopic/issues/90) (this is also where I took the code below from)."
   ]
  },
  {
   "cell_type": "code",
   "execution_count": 56,
   "metadata": {},
   "outputs": [],
   "source": [
    "# Preprocess Documents\n",
    "\n",
    "docs = list(methods_paras.values())\n",
    "\n",
    "documents = pd.DataFrame({\"Document\": docs,\n",
    "                          \"ID\": range(len(docs)),\n",
    "                          \"Topic\": topics[0]})\n",
    "\n",
    "documents_per_topic = documents.groupby(['Topic'], as_index=False).agg({'Document': ' '.join})\n",
    "cleaned_docs = BERTopic_paras_scibert._preprocess_text(documents_per_topic.Document.values)\n",
    "\n",
    "# Extract vectorizer and analyzer from BERTopic\n",
    "vectorizer = topic_model.vectorizer_model\n",
    "analyzer = vectorizer.build_analyzer()\n",
    "\n",
    "# Extract features for Topic Coherence evaluation\n",
    "words = vectorizer.get_feature_names_out()\n",
    "tokens = [analyzer(doc) for doc in cleaned_docs]\n",
    "dictionary = corpora.Dictionary(tokens)\n",
    "corpus = [dictionary.doc2bow(token) for token in tokens]\n",
    "topic_words = [[words for words, _ in topic_model.get_topic(topic)] \n",
    "               for topic in range(len(set(topics[0]))-1)]\n"
   ]
  },
  {
   "cell_type": "code",
   "execution_count": 2,
   "metadata": {},
   "outputs": [],
   "source": [
    "# Evaluate, can take a while\n",
    "# nevermind, takes way too long on my laptop\n",
    "coherence_model = CoherenceModel(topics=topic_words, \n",
    "                                 texts=tokens, \n",
    "                                 corpus=corpus,\n",
    "                                 dictionary=dictionary, \n",
    "                                 coherence='c_v')\n",
    "coherence = coherence_model.get_coherence()"
   ]
  }
 ],
 "metadata": {
  "colab": {
   "authorship_tag": "ABX9TyPOYniBVhEDLbMBzBE5mrSd",
   "collapsed_sections": [
    "3rrBeTcvJ5kC",
    "XbwmWXHHhU_e"
   ],
   "include_colab_link": true,
   "name": "Intro to Topic Modeling.ipynb",
   "private_outputs": true,
   "provenance": []
  },
  "gpuClass": "standard",
  "kernelspec": {
   "display_name": "Python 3 (ipykernel)",
   "language": "python",
   "name": "python3"
  },
  "language_info": {
   "codemirror_mode": {
    "name": "ipython",
    "version": 3
   },
   "file_extension": ".py",
   "mimetype": "text/x-python",
   "name": "python",
   "nbconvert_exporter": "python",
   "pygments_lexer": "ipython3",
   "version": "3.11.0"
  }
 },
 "nbformat": 4,
 "nbformat_minor": 4
}
